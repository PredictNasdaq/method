{
 "cells": [
  {
   "cell_type": "markdown",
   "metadata": {},
   "source": [
    "Trump Tweet Dataset"
   ]
  },
  {
   "cell_type": "code",
   "execution_count": null,
   "metadata": {},
   "outputs": [],
   "source": [
    "import pandas as pd\n",
    "df = pd.read_csv(\"C:/Users/seonahryu/Desktop/urp/combined_output.csv\")"
   ]
  },
  {
   "cell_type": "markdown",
   "metadata": {},
   "source": [
    "# 감성분석"
   ]
  },
  {
   "cell_type": "markdown",
   "metadata": {},
   "source": [
    "### VADER"
   ]
  },
  {
   "cell_type": "code",
   "execution_count": null,
   "metadata": {},
   "outputs": [],
   "source": [
    "import nltk\n",
    "from nltk.sentiment.vader import SentimentIntensityAnalyzer\n",
    "\n",
    "nltk.download('vader_lexicon')\n",
    "sia = SentimentIntensityAnalyzer()"
   ]
  },
  {
   "cell_type": "code",
   "execution_count": null,
   "metadata": {},
   "outputs": [],
   "source": [
    "def sentiment_analysis(text):\n",
    "    score = sia.polarity_scores(text)\n",
    "    return score['compound']"
   ]
  },
  {
   "cell_type": "code",
   "execution_count": null,
   "metadata": {},
   "outputs": [],
   "source": [
    "df['vader_sentiment'] = df['post_content'].apply(sentiment_analysis)\n",
    "print(df[['post_content', 'vader_sentiment']].head(10))"
   ]
  },
  {
   "cell_type": "code",
   "execution_count": null,
   "metadata": {},
   "outputs": [],
   "source": [
    "import seaborn as sns\n",
    "import matplotlib.pyplot as plt\n",
    "\n",
    "plt.figure(figsize=(10, 6))\n",
    "sns.histplot(df['vader_sentiment_score'], bins=30, kde=True)\n",
    "plt.title('VADER(compound score) Sentiment Score Distribution')\n",
    "plt.xlabel('Sentiment Score')\n",
    "plt.ylabel('Frequency')\n",
    "plt.axvline(x=0, color='green', linestyle='dotted') # 0 중립\n",
    "plt.show()"
   ]
  },
  {
   "cell_type": "code",
   "execution_count": null,
   "metadata": {},
   "outputs": [],
   "source": [
    "# 하이퍼파라미터 설정\n",
    "threshold = 0.1\n",
    "\n",
    "# 긍정, 부정, 중립 개수 계산\n",
    "positive_count = (df['vader_sentiment'] > threshold).sum()\n",
    "negative_count = (df['vader_sentiment'] < -threshold).sum()\n",
    "neutral_count = ((df['vader_sentiment'] <= threshold) & (df['vader_sentiment'] >= -threshold)).sum()\n",
    "\n",
    "\n",
    "total_count = positive_count + negative_count + neutral_count\n",
    "\n",
    "print(f'total : {total_count}개')\n",
    "print(f'positive : {positive_count}개')\n",
    "print(f'negative : {negative_count}개')\n",
    "print(f'neutral : {neutral_count}개')\n",
    "\n",
    "positive_percentage = (positive_count / total_count) * 100\n",
    "negative_percentage = (negative_count / total_count) * 100\n",
    "neutral_percentage = (neutral_count / total_count) * 100\n",
    "\n",
    "print(f'positive : {positive_percentage}%')\n",
    "print(f'negative : {negative_percentage}%')\n",
    "print(f'neutral : {neutral_percentage}%')\n",
    "\n",
    "# 비율 데이터프레임 생성\n",
    "sentiment_distribution = pd.DataFrame({\n",
    "    'Sentiment': ['Positive', 'Negative', 'Neutral'],\n",
    "    'Percentage': [positive_percentage, negative_percentage, neutral_percentage]\n",
    "})\n",
    "\n",
    "# 비율 시각화\n",
    "plt.figure(figsize=(8, 5))\n",
    "sns.barplot(x='Sentiment', y='Percentage', data=sentiment_distribution)\n",
    "plt.title('Sentiment Distribution Using VADER')\n",
    "plt.xlabel('Sentiment')\n",
    "plt.ylabel('Percentage (%)')\n",
    "plt.ylim(0, 100)\n",
    "plt.show()"
   ]
  },
  {
   "cell_type": "markdown",
   "metadata": {},
   "source": [
    "### RoBERTa"
   ]
  },
  {
   "cell_type": "code",
   "execution_count": null,
   "metadata": {},
   "outputs": [],
   "source": [
    "from transformers import RobertaTokenizer, RobertaForSequenceClassification\n",
    "import torch\n",
    "import pandas as pd\n",
    "\n",
    "# RoBERTa 모델 및 토크나이저 로드\n",
    "model_name = \"cardiffnlp/twitter-roberta-base-sentiment\"\n",
    "tokenizer = RobertaTokenizer.from_pretrained(model_name)\n",
    "model = RobertaForSequenceClassification.from_pretrained(model_name)\n",
    "\n",
    "# 평가 모드로 전환\n",
    "model.eval()\n",
    "\n",
    "# 감성 분석 함수 정의\n",
    "def classify_sentiment(text):\n",
    "    encoded_input = tokenizer(text, truncation=True, padding=True, max_length=128, return_tensors=\"pt\")\n",
    "    with torch.no_grad():\n",
    "        output = model(**encoded_input)\n",
    "        scores = torch.nn.functional.softmax(output.logits, dim=-1)[0].tolist()\n",
    "        \n",
    "        # 가장 높은 확률을 가진 클래스 선택\n",
    "        sentiment_index = scores.index(max(scores))\n",
    "        \n",
    "        # 감정 매핑\n",
    "        if sentiment_index == 0:\n",
    "            return -1  # 부정\n",
    "        elif sentiment_index == 1:\n",
    "            return 0   # 중립\n",
    "        else:\n",
    "            return 1   # 긍정\n",
    "\n",
    "# df에 RoBERTa 감정 점수 추가\n",
    "df[\"roberta_sentiment\"] = None\n",
    "\n",
    "for i, row in df.iterrows():\n",
    "    sentiment = classify_sentiment(row[\"post_content\"])\n",
    "    df.at[i, \"roberta_sentiment\"] = sentiment\n",
    "    \n",
    "    if i % 100 == 0:  # 100개마다 진행 상황 출력\n",
    "        print(f\"Processed {i} out of {len(df)} rows\")\n",
    "\n",
    "# 결과 출력\n",
    "print(df[[\"post_content\", \"roberta_sentiment\"]].head())"
   ]
  },
  {
   "cell_type": "code",
   "execution_count": null,
   "metadata": {},
   "outputs": [],
   "source": [
    "# 긍정, 부정, 중립 개수 계산\n",
    "positive_count = (df['roberta_sentiment'] == 1).sum()\n",
    "negative_count = (df['roberta_sentiment'] == -1).sum()\n",
    "neutral_count = (df['roberta_sentiment'] == 0).sum()\n",
    "\n",
    "total_count = positive_count + negative_count + neutral_count\n",
    "\n",
    "print(f'total : {total_count}개')\n",
    "print(f'positive : {positive_count}개')\n",
    "print(f'negative : {negative_count}개')\n",
    "print(f'neutral : {neutral_count}개')\n",
    "\n",
    "positive_percentage = (positive_count / total_count) * 100\n",
    "negative_percentage = (negative_count / total_count) * 100\n",
    "neutral_percentage = (neutral_count / total_count) * 100\n",
    "\n",
    "print(f'positive : {positive_percentage:.2f}%')\n",
    "print(f'negative : {negative_percentage:.2f}%')\n",
    "print(f'neutral : {neutral_percentage:.2f}%')\n",
    "\n",
    "# 비율 데이터프레임 생성\n",
    "sentiment_distribution = pd.DataFrame({\n",
    "    'Sentiment': ['Positive', 'Negative', 'Neutral'],\n",
    "    'Percentage': [positive_percentage, negative_percentage, neutral_percentage]\n",
    "})\n",
    "\n",
    "# 비율 시각화\n",
    "plt.figure(figsize=(8, 5))\n",
    "sns.barplot(x='Sentiment', y='Percentage', data=sentiment_distribution)\n",
    "plt.title('Sentiment Distribution Using RoBERTa')\n",
    "plt.xlabel('Sentiment')\n",
    "plt.ylabel('Percentage (%)')\n",
    "plt.ylim(0, 100)\n",
    "plt.show()"
   ]
  },
  {
   "cell_type": "code",
   "execution_count": null,
   "metadata": {},
   "outputs": [],
   "source": [
    "import pandas as pd\n",
    "import seaborn as sns\n",
    "import matplotlib.pyplot as plt\n",
    "\n",
    "# 데이터 시각화\n",
    "plt.figure(figsize=(16, 9))\n",
    "\n",
    "# 선 그래프 그리기\n",
    "sns.lineplot(data=df[['vader_sentiment', 'roberta_sentiment]])\n",
    "\n",
    "# 레이블 설정\n",
    "plt.xlabel('Index')\n",
    "plt.ylabel('Sentiment Score')\n",
    "plt.title('Sentiment Scores Comparison')\n",
    "plt.legend(['VADER Sentiment', 'RoBERTa Sentiment'])\n",
    "\n",
    "# 플롯 표시\n",
    "plt.show()"
   ]
  },
  {
   "cell_type": "markdown",
   "metadata": {},
   "source": [
    "df post_time을 기준으로 nasdaq 종가 예측 prediction_date 열 추가 !!!"
   ]
  },
  {
   "cell_type": "code",
   "execution_count": null,
   "metadata": {},
   "outputs": [],
   "source": []
  },
  {
   "cell_type": "code",
   "execution_count": null,
   "metadata": {},
   "outputs": [],
   "source": [
    "df.to_csv('tweet_sentiment_prediction.csv', index=False)"
   ]
  }
 ],
 "metadata": {
  "language_info": {
   "name": "python"
  }
 },
 "nbformat": 4,
 "nbformat_minor": 2
}
