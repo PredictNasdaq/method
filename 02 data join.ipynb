{
 "cells": [
  {
   "cell_type": "markdown",
   "metadata": {},
   "source": [
    "Trump Tweet Dataset"
   ]
  },
  {
   "cell_type": "code",
   "execution_count": null,
   "metadata": {},
   "outputs": [],
   "source": [
    "import pandas as pd\n",
    "df = pd.read_csv(\"C:/Users/seonahryu/Desktop/urp/tweet_sentiment_prediction.csv\")"
   ]
  },
  {
   "cell_type": "markdown",
   "metadata": {},
   "source": [
    "Nasdaq Dataset"
   ]
  },
  {
   "cell_type": "code",
   "execution_count": null,
   "metadata": {},
   "outputs": [],
   "source": [
    "import pandas as pd\n",
    "df_nasdaq = pd.read_csv(\"C:/Users/seonahryu/Desktop/urp/nasdaq_data_2009_2024.csv\", index_col = 'Unnamed: 0')"
   ]
  },
  {
   "cell_type": "code",
   "execution_count": null,
   "metadata": {},
   "outputs": [],
   "source": [
    "import seaborn as sns\n",
    "import matplotlib.pyplot as plt\n",
    "\n",
    "plt.figure(figsize=(16,9))\n",
    "sns.lineplot(y=df_nasdaq['Close'], x=df_nasdaq.index)\n",
    "plt.xlabel('time')\n",
    "plt.ylabel('close price')"
   ]
  },
  {
   "cell_type": "markdown",
   "metadata": {},
   "source": [
    "df index를 prediction_time으로 설정"
   ]
  },
  {
   "cell_type": "code",
   "execution_count": null,
   "metadata": {},
   "outputs": [],
   "source": [
    "df.set_index('prediction_date', inplace=True)\n",
    "df.index = pd.to_datetime(df.index)\n",
    "df.head(5)"
   ]
  },
  {
   "cell_type": "code",
   "execution_count": null,
   "metadata": {},
   "outputs": [],
   "source": [
    "df = df.drop(columns=[\"date\", \"text\"])\n",
    "df"
   ]
  },
  {
   "cell_type": "markdown",
   "metadata": {},
   "source": [
    "df_nasdaq에서 전날 종가로 다음날 종가 예측"
   ]
  },
  {
   "cell_type": "code",
   "execution_count": null,
   "metadata": {},
   "outputs": [],
   "source": [
    "# Close 열만 선택하여 새로운 데이터프레임 저장\n",
    "df_close = df_nasdaq[['Close']].copy()\n",
    "df_close"
   ]
  },
  {
   "cell_type": "code",
   "execution_count": null,
   "metadata": {},
   "outputs": [],
   "source": [
    "import pandas as pd\n",
    "\n",
    "# 인덱스를 datetime 형식으로 변환\n",
    "df_close.index = pd.to_datetime(df_close.index)\n",
    "\n",
    "# 1일씩 다음날로 이동\n",
    "df_close.index = df_close.index + pd.DateOffset(days=1)\n",
    "\n",
    "# 결과 확인\n",
    "df_close"
   ]
  },
  {
   "cell_type": "markdown",
   "metadata": {},
   "source": [
    "inner join (prediction_date가 index인 df와 df_close)"
   ]
  },
  {
   "cell_type": "code",
   "execution_count": null,
   "metadata": {},
   "outputs": [],
   "source": [
    "# df의 인덱스와 df_close의 인덱스가 일치하는 행만\n",
    "in_df = df.join(df_close, how='inner')\n",
    "\n",
    "in_df.head(10)"
   ]
  },
  {
   "cell_type": "code",
   "execution_count": null,
   "metadata": {},
   "outputs": [],
   "source": [
    "in_df.rename(columns={'Close': 'past_day_close'}, inplace=True)"
   ]
  },
  {
   "cell_type": "markdown",
   "metadata": {},
   "source": [
    "nasdaq index(date) = in_df index(prediction_date) -> inner join"
   ]
  },
  {
   "cell_type": "code",
   "execution_count": null,
   "metadata": {},
   "outputs": [],
   "source": [
    "df_nasdaq.index = pd.to_datetime(df_nasdaq.index)"
   ]
  },
  {
   "cell_type": "code",
   "execution_count": null,
   "metadata": {},
   "outputs": [],
   "source": [
    "df_nasdaq = df_nasdaq.drop(columns=[\"Close\"]) #Adj Close 예측\n",
    "df"
   ]
  },
  {
   "cell_type": "code",
   "execution_count": null,
   "metadata": {},
   "outputs": [],
   "source": [
    "# NaN이 없도록 inner join\n",
    "df_combined = in_df.join(df_nasdaq, how='inner')\n",
    "\n",
    "print(df_combined.head(10))"
   ]
  },
  {
   "cell_type": "code",
   "execution_count": null,
   "metadata": {},
   "outputs": [],
   "source": [
    "# 인덱스를 열로 변환하고 열 이름 지정\n",
    "df_combined.reset_index(drop=False, inplace=True)  # drop=False로 인덱스를 열로 변환\n",
    "df_combined.rename(columns={'index': 'date'}, inplace=True)  # 열 이름 변경\n",
    "\n",
    "# CSV 파일로 저장\n",
    "df_combined.to_csv('combined_data.csv', index=False)  # 인덱스는 저장하지 않음"
   ]
  }
 ],
 "metadata": {
  "language_info": {
   "name": "python"
  }
 },
 "nbformat": 4,
 "nbformat_minor": 2
}
